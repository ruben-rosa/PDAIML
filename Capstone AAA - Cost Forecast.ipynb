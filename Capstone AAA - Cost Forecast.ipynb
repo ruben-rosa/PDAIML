{
 "cells": [
  {
   "cell_type": "markdown",
   "metadata": {},
   "source": [
    "# Forecast Cost and Usage Modeling"
   ]
  },
  {
   "cell_type": "code",
   "execution_count": 3,
   "metadata": {},
   "outputs": [],
   "source": [
    "from __future__ import absolute_import, division, print_function, unicode_literals\n",
    "import os\n",
    "from datetime import datetime\n",
    "import datetime as dt  # Used to manage dates\n",
    "import warnings                   # To ignore the warnings warnings.filterwarnings(\"ignore\")\n",
    "from dateutil.parser import parse \n",
    "import pymysql # Import MySql \n",
    "import warnings                   # To ignore the warnings warnings.filterwarnings(\"ignore\")\n",
    "import requests\n",
    "\n",
    "from scipy import signal\n",
    "from scipy.special import inv_boxcox\n",
    "from scipy import stats as stats # Used for calculating z-values\n",
    "\n",
    "import numpy as np # Used for calculating statistics on data\n",
    "import random\n",
    "import math\n",
    "from math import sqrt, log, exp\n",
    "import itertools\n",
    "\n",
    "import pandas as pd # Used for loading-in and viewing data\n",
    "from pandas.plotting import lag_plot\n",
    "\n",
    "import matplotlib.pyplot as plt # Used for creating graphics\n",
    "import matplotlib as mpl\n",
    "import matplotlib.lines as mlines\n",
    "from matplotlib.pylab import rcParams \n",
    "from pylab import *\n",
    "import seaborn as sns\n",
    "from mpl_toolkits.mplot3d import Axes3D\n",
    "import pylab as pl\n",
    "\n",
    "import statsmodels.api as sm\n",
    "#from statsmodels.tsa.api import ExponentialSmoothing, SimpleExpSmoothing, Holt\n",
    "from statsmodels.tsa.stattools import adfuller, kpss, acf, pacf\n",
    "from statsmodels.tsa.seasonal import seasonal_decompose \n",
    "from statsmodels.graphics.tsaplots import plot_acf, plot_pacf\n",
    "from statsmodels.formula.api import ols\n",
    "\n",
    "#from statsmodels.tsa.arima_model import ARIMA, ARMA\n",
    "#from statsmodels.tsa.arima_process import arma_generate_sample\n",
    "\n",
    "from sklearn.metrics import r2_score, mean_absolute_error, mean_squared_error, mean_squared_log_error\n",
    "from sklearn.preprocessing import StandardScaler\n",
    "from sklearn.decomposition import PCA\n",
    "from sklearn.cluster import KMeans\n",
    "from sklearn.ensemble import IsolationForest\n",
    "from sklearn.svm import OneClassSVM\n",
    "from sklearn.preprocessing import MinMaxScaler\n",
    "\n",
    "\n",
    "import plotly.offline as py\n",
    "from plotly import graph_objs as go\n",
    "from plotly import figure_factory as ff\n",
    "import plotly.express as px\n",
    "from plotly.subplots import make_subplots\n",
    "\n",
    "\n",
    "from fbprophet.plot import add_changepoints_to_plot\n",
    "from fbprophet.diagnostics import cross_validation\n",
    "from fbprophet.diagnostics import performance_metrics\n",
    "from fbprophet.plot import plot_cross_validation_metric\n",
    "from fbprophet import Prophet\n",
    "from fbprophet.plot import plot_plotly\n",
    "\n",
    "\n",
    "%matplotlib inline\n",
    "warnings.filterwarnings(\"ignore\")\n",
    "warnings.simplefilter(\"ignore\", DeprecationWarning)\n",
    "warnings.simplefilter(\"ignore\", FutureWarning, )\n",
    "\n",
    "pd.plotting.register_matplotlib_converters()\n",
    "pd.options.display.float_format = '{:.4f}'.format\n",
    "rcParams.update({'figure.autolayout': True, 'figure.figsize':(12,8),'axes.titlesize':14})\n",
    "\n",
    "pd.set_option('display.max_rows', 100)\n",
    "pd.set_option('display.max_columns', 100)\n",
    "pd.set_option('max_info_rows', 100)\n",
    "\n",
    "# to make this notebook's output identical at every run\n",
    "np.random.seed(42)"
   ]
  },
  {
   "cell_type": "markdown",
   "metadata": {},
   "source": [
    "# Functions Definitions"
   ]
  },
  {
   "cell_type": "code",
   "execution_count": 4,
   "metadata": {},
   "outputs": [],
   "source": [
    "def read_data(file_name):\n",
    "    df = pd.read_csv(file_name, sep=',', index_col=False, header='infer', float_precision=2 )\n",
    "    return df"
   ]
  },
  {
   "cell_type": "markdown",
   "metadata": {},
   "source": [
    "# Load data transacton File View\n",
    "\n",
    "* CREATE \n",
    "    ALGORITHM = UNDEFINED \n",
    "    DEFINER = `root`@`localhost` \n",
    "    SQL SECURITY DEFINER\n",
    "VIEW `capstone_ai`.`household_ts_view` AS \n",
    "    SELECT \n",
    "        `a`.`call_status_recv_date` AS `call_date`,\n",
    "        `a`.`membership_id` AS `membership_id`,\n",
    "        `a`.`total_cost` AS `total_cost`,\n",
    "        `a`.`csrd_yyyymm` AS `csrd_yyyymm`,\n",
    "        `a`.`csrd_yyyy` AS `csrd_yyyy`,\n",
    "        MONTH(`a`.`call_status_recv_date`) AS `csrd_mth`,\n",
    "        `a`.`csrd_yyyywk` AS `csrd_yyyywk`,\n",
    "     `capstone_ai`.`capstone_aaa_featured` `a`\n",
    "    WHERE\n",
    "        (`a`.`csrd_yyyy` <> 0)\n",
    "    ORDER BY (`a`.`call_status_recv_date`\n",
    "        AND `a`.`membership_id`)\n",
    "        \n",
    "    * call_status_recv_date - Call Date when the customer called AAA\n",
    "    * membership_id - membership id - unique for the entire household\n",
    "    * total_cost - Total cost of the service call\n",
    "    * csrd_yyyymm - Year and month of the call date\n",
    "    * csrd_yyyy - Year of the call date\n",
    "    * csrd_mth - Month of the service call\n",
    "    * csrd_yyyywk`- Year/week of the service call\n",
    "    * csrd_wk - Week of the service call"
   ]
  },
  {
   "cell_type": "code",
   "execution_count": 5,
   "metadata": {},
   "outputs": [],
   "source": [
    "# Load data from the View create using Capstone AAA - EDA .ipynb\n",
    "df_household = read_data('household_ts_view.csv')\n",
    "df_original_house_hold = df_household.copy()\n",
    "pd.set_option('display.max_rows', 500)\n",
    "pd.set_option('display.max_columns', 500)\n",
    "pd.set_option('display.width', 1000)\n",
    "corporacion = 'AAA Northeast'\n",
    "var_to_predict = ['total_cost']\n",
    "var_to_predict_title = 'ID Theft Services'\n",
    "var_to_predict_save = 'theft'\n",
    "test_size = 0.5\n",
    "\n",
    "# To be Used to calculate the total number of calls \n",
    "df_household['no_call'] = 1"
   ]
  },
  {
   "cell_type": "code",
   "execution_count": 6,
   "metadata": {},
   "outputs": [
    {
     "name": "stdout",
     "output_type": "stream",
     "text": [
      "<class 'pandas.core.frame.DataFrame'>\n",
      "RangeIndex: 13844 entries, 0 to 13843\n",
      "Data columns (total 9 columns):\n",
      "call_date        object\n",
      "membership_id    int64\n",
      "total_cost       float64\n",
      "csrd_yyyymm      int64\n",
      "csrd_yyyy        int64\n",
      "csrd_mth         int64\n",
      "csrd_yyyywk      int64\n",
      "csrd_wk          int64\n",
      "no_call          int64\n",
      "dtypes: float64(1), int64(7), object(1)\n",
      "memory usage: 973.5+ KB\n"
     ]
    }
   ],
   "source": [
    "df_household.info()"
   ]
  },
  {
   "cell_type": "code",
   "execution_count": null,
   "metadata": {},
   "outputs": [],
   "source": []
  }
 ],
 "metadata": {
  "kernelspec": {
   "display_name": "Python 3",
   "language": "python",
   "name": "python3"
  },
  "language_info": {
   "codemirror_mode": {
    "name": "ipython",
    "version": 3
   },
   "file_extension": ".py",
   "mimetype": "text/x-python",
   "name": "python",
   "nbconvert_exporter": "python",
   "pygments_lexer": "ipython3",
   "version": "3.7.4"
  }
 },
 "nbformat": 4,
 "nbformat_minor": 2
}
